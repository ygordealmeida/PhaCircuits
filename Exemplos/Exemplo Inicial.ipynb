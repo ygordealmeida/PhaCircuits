{
 "cells": [
  {
   "cell_type": "markdown",
   "metadata": {},
   "source": [
    "# Guia de Uso da Classe `Circuito` para Análise e Desenho de Circuitos Elétricos\n",
    "\n",
    "Este guia fornece um passo a passo sobre como usar a classe `Circuito` para adicionar componentes, definir nós, resolver e desenhar um circuito elétrico. Vamos explorar cada etapa detalhadamente, incluindo o código necessário e explicações sobre o que está sendo feito.\n"
   ]
  },
  {
   "cell_type": "markdown",
   "metadata": {},
   "source": [
    "## Passo 1: Inicializar o Circuito\n",
    "\n",
    "Primeiro, criamos uma instância da classe `Circuito`, que inicializa a lista de componentes, o conjunto de nós e outras variáveis internas necessárias.\n",
    "\n",
    "\n"
   ]
  },
  {
   "cell_type": "code",
   "execution_count": null,
   "metadata": {},
   "outputs": [],
   "source": [
    "circuito = Circuito()"
   ]
  },
  {
   "cell_type": "markdown",
   "metadata": {},
   "source": [
    "\n",
    "\n",
    "### Passo 2: Adicionar Elementos ao Circuito\n",
    "\n",
    "Usamos o método `element` para adicionar componentes ao circuito. O método recebe o tipo do elemento (`'Resistor'`, `'Capacitor'`, `'Inductor'`, `'Voltage Source'`, `'Current Source'`, ou `'Wire'`), os pontos de início e fim, o valor e um rótulo para identificação.\n",
    "\n",
    "### Exemplo:\n",
    "\n",
    "Aqui vamos adicionar uma fonte de tensão e alguns componentes ao circuito:\n",
    "\n",
    "\n"
   ]
  },
  {
   "cell_type": "code",
   "execution_count": null,
   "metadata": {},
   "outputs": [],
   "source": [
    "circuito.element(\"Voltage Source\", (0, -2), (0, 0), 12, 'Vs')  # Fonte de tensão de 12V\n",
    "circuito.element(\"Resistor\", (0, 0), (2, 0), 10, \"R1\")         # Resistor de 10 ohms\n",
    "circuito.element(\"Capacitor\", (2, 0), (4, 0), -15j, \"C1\")      # Capacitor com valor imaginário -15j\n",
    "circuito.element(\"Current Source\", (4, 0), (4, -2), 5+8j, 'Is')  # Fonte de corrente complexa\n",
    "circuito.element(\"Wire\", (4, -2), (2, -2))\n",
    "circuito.element(\"Wire\", (2, -2), (0, -2))\n",
    "circuito.element(\"Resistor\", (2, 0), (2, -2), 30, \"L2\")  # Resistor de 30 ohms\n",
    "\n"
   ]
  },
  {
   "cell_type": "markdown",
   "metadata": {},
   "source": [
    "\n",
    "## Passo 3: Definir o Nó de Referência\n",
    "\n",
    "Para resolver o circuito, definimos um nó de referência onde a tensão é zero. Por padrão, o nó 0 é a referência, mas podemos escolher outro com o método `set_reference`.\n",
    "\n",
    "\n"
   ]
  },
  {
   "cell_type": "code",
   "execution_count": null,
   "metadata": {},
   "outputs": [],
   "source": [
    "circuito.set_reference(4)  # Definindo o nó 4 como referência"
   ]
  },
  {
   "cell_type": "markdown",
   "metadata": {},
   "source": [
    "\n",
    "## Passo 4: Desenhar o Circuito\n",
    "\n",
    "Usamos o método `draw` para criar uma representação visual do circuito. Este método utiliza a biblioteca `schemdraw` para desenhar o circuito.\n",
    "\n",
    "\n"
   ]
  },
  {
   "cell_type": "code",
   "execution_count": null,
   "metadata": {},
   "outputs": [],
   "source": [
    "circuito.draw()  # Desenha o circuito sem mostrar as correntes"
   ]
  },
  {
   "cell_type": "markdown",
   "metadata": {},
   "source": [
    "\n",
    "## Passo 5: Resolver o Circuito\n",
    "\n",
    "Para calcular as tensões nos nós, usamos `resolver_circuito`, que monta a matriz de condutância e resolve as equações associadas.\n",
    "\n"
   ]
  },
  {
   "cell_type": "code",
   "execution_count": null,
   "metadata": {},
   "outputs": [],
   "source": [
    "\n",
    "V = circuito.resolver_circuito()\n",
    "print(\"Tensões nos nós:\", V)"
   ]
  },
  {
   "cell_type": "markdown",
   "metadata": {},
   "source": []
  }
 ],
 "metadata": {
  "kernelspec": {
   "display_name": "Python 3",
   "language": "python",
   "name": "python3"
  },
  "language_info": {
   "codemirror_mode": {
    "name": "ipython",
    "version": 3
   },
   "file_extension": ".py",
   "mimetype": "text/x-python",
   "name": "python",
   "nbconvert_exporter": "python",
   "pygments_lexer": "ipython3",
   "version": "3.10.2"
  }
 },
 "nbformat": 4,
 "nbformat_minor": 2
}
