{
 "cells": [
  {
   "cell_type": "code",
   "execution_count": null,
   "metadata": {},
   "outputs": [],
   "source": [
    "import schemdraw\n",
    "import schemdraw.elements as elm"
   ]
  },
  {
   "cell_type": "code",
   "execution_count": null,
   "metadata": {},
   "outputs": [
    {
     "ename": "SyntaxError",
     "evalue": "invalid syntax (4252892067.py, line 14)",
     "output_type": "error",
     "traceback": [
      "\u001b[1;36m  Cell \u001b[1;32mIn[53], line 14\u001b[1;36m\u001b[0m\n\u001b[1;33m    def position\u001b[0m\n\u001b[1;37m                 ^\u001b[0m\n\u001b[1;31mSyntaxError\u001b[0m\u001b[1;31m:\u001b[0m invalid syntax\n"
     ]
    }
   ],
   "source": [
    "class Circuito:\n",
    "    def __init__(self):\n",
    "        self.elements =0 # Variável que conta a quantidade de elementos\n",
    "        self.elements_list =[] #List that saves the elements\n",
    "        self.draw_elements_list=[]\n",
    "\n",
    "    def element(self, Element: str, Start: tuple, End: tuple, Valor: float):\n",
    "        self.elements_list.append([Element, Start, End, Valor])\n",
    "        self.elements +=1\n",
    "\n",
    "    def exibir_elementos(self):\n",
    "        for i, elemento in enumerate(self.elements_list):\n",
    "            print(f\"Elemento {i+1}: {elemento}\")\n",
    "\n",
    "\n",
    "    def draw(self):\n",
    "        with schemdraw.Drawing() as d:\n",
    "            for iten in self.elements_list:\n",
    "                switch\n",
    "                self.draw_elements_list[iten]= d.add(elm.)\n",
    "        \n",
    "\n",
    "\n",
    "\n",
    "    \n",
    "\n"
   ]
  }
 ],
 "metadata": {
  "language_info": {
   "name": "python"
  }
 },
 "nbformat": 4,
 "nbformat_minor": 2
}
